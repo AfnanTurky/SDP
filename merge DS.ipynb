{
 "cells": [
  {
   "cell_type": "code",
   "execution_count": 1,
   "metadata": {},
   "outputs": [],
   "source": [
    "import os\n",
    "import numpy as np\n",
    "import pandas as pd"
   ]
  },
  {
   "cell_type": "code",
   "execution_count": 2,
   "metadata": {},
   "outputs": [],
   "source": [
    "df=pd.read_csv('merged selected DS')"
   ]
  },
  {
   "cell_type": "code",
   "execution_count": 3,
   "metadata": {},
   "outputs": [
    {
     "data": {
      "text/plain": [
       "440"
      ]
     },
     "execution_count": 3,
     "metadata": {},
     "output_type": "execute_result"
    }
   ],
   "source": [
    "len(df)"
   ]
  },
  {
   "cell_type": "code",
   "execution_count": 4,
   "metadata": {},
   "outputs": [],
   "source": [
    "import os\n",
    "import numpy as np\n",
    "import pandas as pd\n",
    "root_folder=\"D:\\\\SDP\\\\Dataset Dr.Sultan\\\\selected DS\"\n",
    "files = [os.path.join(root_folder, x) for x in os.listdir(root_folder)]"
   ]
  },
  {
   "cell_type": "code",
   "execution_count": 26,
   "metadata": {},
   "outputs": [
    {
     "name": "stdout",
     "output_type": "stream",
     "text": [
      "BEFORE\n",
      "D:\\SDP\\Dataset Dr.Sultan\\selected DS\\ant-1.4.csv\n",
      "{0, 1}\n",
      "AFTER\n",
      "D:\\SDP\\Dataset Dr.Sultan\\selected DS\\ant-1.4.csv\n",
      "{0, 1}\n",
      "BEFORE\n",
      "D:\\SDP\\Dataset Dr.Sultan\\selected DS\\ant-1.6.csv\n",
      "{0, 1}\n",
      "AFTER\n",
      "D:\\SDP\\Dataset Dr.Sultan\\selected DS\\ant-1.6.csv\n",
      "{0, 1}\n",
      "BEFORE\n",
      "D:\\SDP\\Dataset Dr.Sultan\\selected DS\\camel-1.4.csv\n",
      "{0, 1, 2, 3, 4, 5, 6, 7, 8, 10, 13, 17}\n",
      "AFTER\n",
      "D:\\SDP\\Dataset Dr.Sultan\\selected DS\\camel-1.4.csv\n",
      "{0, 1}\n",
      "BEFORE\n",
      "D:\\SDP\\Dataset Dr.Sultan\\selected DS\\camel-1.6.csv\n",
      "{0, 1, 2, 3, 4, 5, 6, 7, 8, 9, 10, 11, 13, 17, 18, 28}\n",
      "AFTER\n",
      "D:\\SDP\\Dataset Dr.Sultan\\selected DS\\camel-1.6.csv\n",
      "{0, 1}\n",
      "BEFORE\n",
      "D:\\SDP\\Dataset Dr.Sultan\\selected DS\\ivy-2.0.csv\n",
      "{0, 1, 2, 3}\n",
      "AFTER\n",
      "D:\\SDP\\Dataset Dr.Sultan\\selected DS\\ivy-2.0.csv\n",
      "{0, 1}\n",
      "BEFORE\n",
      "D:\\SDP\\Dataset Dr.Sultan\\selected DS\\jedit-4.2.csv\n",
      "{0, 1, 2, 3, 4, 6, 7, 9, 10}\n",
      "AFTER\n",
      "D:\\SDP\\Dataset Dr.Sultan\\selected DS\\jedit-4.2.csv\n",
      "{0, 1}\n",
      "BEFORE\n",
      "D:\\SDP\\Dataset Dr.Sultan\\selected DS\\jedit-4.3.csv\n",
      "{0, 1, 2}\n",
      "AFTER\n",
      "D:\\SDP\\Dataset Dr.Sultan\\selected DS\\jedit-4.3.csv\n",
      "{0, 1}\n",
      "BEFORE\n",
      "D:\\SDP\\Dataset Dr.Sultan\\selected DS\\poi-2.0.csv\n",
      "{0, 1, 2}\n",
      "AFTER\n",
      "D:\\SDP\\Dataset Dr.Sultan\\selected DS\\poi-2.0.csv\n",
      "{0, 1}\n",
      "BEFORE\n",
      "D:\\SDP\\Dataset Dr.Sultan\\selected DS\\prop-6.csv\n",
      "{0, 1}\n",
      "AFTER\n",
      "D:\\SDP\\Dataset Dr.Sultan\\selected DS\\prop-6.csv\n",
      "{0, 1}\n",
      "BEFORE\n",
      "D:\\SDP\\Dataset Dr.Sultan\\selected DS\\synapse-1.2.csv\n",
      "{0, 1, 2, 3, 4, 6, 9}\n",
      "AFTER\n",
      "D:\\SDP\\Dataset Dr.Sultan\\selected DS\\synapse-1.2.csv\n",
      "{0, 1}\n",
      "BEFORE\n",
      "D:\\SDP\\Dataset Dr.Sultan\\selected DS\\xalan-2.5.csv\n",
      "{0, 1, 2, 3, 4, 5, 6, 8, 9}\n",
      "AFTER\n",
      "D:\\SDP\\Dataset Dr.Sultan\\selected DS\\xalan-2.5.csv\n",
      "{0, 1}\n",
      "BEFORE\n",
      "D:\\SDP\\Dataset Dr.Sultan\\selected DS\\xerces-1.2.csv\n",
      "{0, 1, 2, 4}\n",
      "AFTER\n",
      "D:\\SDP\\Dataset Dr.Sultan\\selected DS\\xerces-1.2.csv\n",
      "{0, 1}\n"
     ]
    }
   ],
   "source": [
    "frames=[]\n",
    "count=0\n",
    "for file in files:\n",
    "\n",
    "    df=pd.read_csv(file)\n",
    "    print(\"BEFORE\")\n",
    "    print(file)\n",
    "    print(set(df.bug))\n",
    "    df=df.replace({'bug':[ 1, 2, 3, 4, 5, 6, 7, 8, 9, 10, 11, 13, 17, 18, 28]}, 1)\n",
    "    print(\"AFTER\")\n",
    "    print(file)\n",
    "    print(set(df.bug))\n",
    "    count+=len(df)\n",
    "    if( 'version' in df.columns):\n",
    "        df=df.drop(['name.1','name', 'version'], axis=1)\n",
    "    frames.append(df)"
   ]
  },
  {
   "cell_type": "code",
   "execution_count": null,
   "metadata": {},
   "outputs": [],
   "source": []
  },
  {
   "cell_type": "code",
   "execution_count": 24,
   "metadata": {},
   "outputs": [
    {
     "data": {
      "text/plain": [
       "[0, 1, 2, 3, 4, 5, 6, 7, 8, 9, 10, 11, 13, 17, 18, 28]"
      ]
     },
     "execution_count": 24,
     "metadata": {},
     "output_type": "execute_result"
    }
   ],
   "source": [
    "list(set(result.bug))"
   ]
  },
  {
   "cell_type": "code",
   "execution_count": null,
   "metadata": {},
   "outputs": [],
   "source": []
  },
  {
   "cell_type": "code",
   "execution_count": 23,
   "metadata": {},
   "outputs": [],
   "source": [
    "result = pd.concat(frames)"
   ]
  },
  {
   "cell_type": "code",
   "execution_count": 11,
   "metadata": {},
   "outputs": [
    {
     "data": {
      "text/plain": [
       "6034"
      ]
     },
     "execution_count": 11,
     "metadata": {},
     "output_type": "execute_result"
    }
   ],
   "source": [
    "len(result)"
   ]
  },
  {
   "cell_type": "code",
   "execution_count": 10,
   "metadata": {},
   "outputs": [],
   "source": [
    "result.to_csv('merged selected DS')"
   ]
  },
  {
   "cell_type": "code",
   "execution_count": 12,
   "metadata": {},
   "outputs": [],
   "source": [
    "d=pd.read_csv('merged selected DS')"
   ]
  },
  {
   "cell_type": "code",
   "execution_count": 22,
   "metadata": {},
   "outputs": [
    {
     "data": {
      "text/html": [
       "<div>\n",
       "<style scoped>\n",
       "    .dataframe tbody tr th:only-of-type {\n",
       "        vertical-align: middle;\n",
       "    }\n",
       "\n",
       "    .dataframe tbody tr th {\n",
       "        vertical-align: top;\n",
       "    }\n",
       "\n",
       "    .dataframe thead th {\n",
       "        text-align: right;\n",
       "    }\n",
       "</style>\n",
       "<table border=\"1\" class=\"dataframe\">\n",
       "  <thead>\n",
       "    <tr style=\"text-align: right;\">\n",
       "      <th></th>\n",
       "      <th>A</th>\n",
       "      <th>B</th>\n",
       "      <th>C</th>\n",
       "    </tr>\n",
       "  </thead>\n",
       "  <tbody>\n",
       "    <tr>\n",
       "      <th>0</th>\n",
       "      <td>0</td>\n",
       "      <td>5</td>\n",
       "      <td>a</td>\n",
       "    </tr>\n",
       "    <tr>\n",
       "      <th>1</th>\n",
       "      <td>1</td>\n",
       "      <td>6</td>\n",
       "      <td>b</td>\n",
       "    </tr>\n",
       "    <tr>\n",
       "      <th>2</th>\n",
       "      <td>2</td>\n",
       "      <td>7</td>\n",
       "      <td>c</td>\n",
       "    </tr>\n",
       "    <tr>\n",
       "      <th>3</th>\n",
       "      <td>3</td>\n",
       "      <td>8</td>\n",
       "      <td>d</td>\n",
       "    </tr>\n",
       "    <tr>\n",
       "      <th>4</th>\n",
       "      <td>4</td>\n",
       "      <td>9</td>\n",
       "      <td>e</td>\n",
       "    </tr>\n",
       "  </tbody>\n",
       "</table>\n",
       "</div>"
      ],
      "text/plain": [
       "   A  B  C\n",
       "0  0  5  a\n",
       "1  1  6  b\n",
       "2  2  7  c\n",
       "3  3  8  d\n",
       "4  4  9  e"
      ]
     },
     "execution_count": 22,
     "metadata": {},
     "output_type": "execute_result"
    }
   ],
   "source": [
    "df1=pd.DataFrame({'A': [0, 1, 2, 3, 4],\n",
    "                   'B': [5, 6, 7, 8, 9],\n",
    "                   'C': ['a', 'b', 'c', 'd', 'e']})\n",
    "df1.replace({'A': [1,2,3,4,6,7,8]}, 1)\n"
   ]
  },
  {
   "cell_type": "code",
   "execution_count": null,
   "metadata": {},
   "outputs": [],
   "source": []
  },
  {
   "cell_type": "code",
   "execution_count": null,
   "metadata": {},
   "outputs": [],
   "source": []
  }
 ],
 "metadata": {
  "kernelspec": {
   "display_name": "Python 3",
   "language": "python",
   "name": "python3"
  },
  "language_info": {
   "codemirror_mode": {
    "name": "ipython",
    "version": 3
   },
   "file_extension": ".py",
   "mimetype": "text/x-python",
   "name": "python",
   "nbconvert_exporter": "python",
   "pygments_lexer": "ipython3",
   "version": "3.6.8"
  }
 },
 "nbformat": 4,
 "nbformat_minor": 2
}
