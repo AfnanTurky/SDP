{
 "cells": [
  {
   "cell_type": "code",
   "execution_count": 2,
   "metadata": {},
   "outputs": [],
   "source": [
    "import os\n",
    "import numpy as np\n",
    "import pandas as pd\n",
    "root_folder=\"D:\\\\SDP\\\\Dataset Dr.Sultan\\\\selected DS\"\n",
    "files = [os.path.join(root_folder, x) for x in os.listdir(root_folder)]"
   ]
  },
  {
   "cell_type": "code",
   "execution_count": 24,
   "metadata": {
    "collapsed": true
   },
   "outputs": [
    {
     "name": "stdout",
     "output_type": "stream",
     "text": [
      "178\n",
      "351\n",
      "872\n",
      "965\n",
      "352\n",
      "367\n",
      "492\n",
      "314\n",
      "644\n",
      "256\n",
      "803\n",
      "440\n"
     ]
    }
   ],
   "source": [
    "frames=[]\n",
    "count=0\n",
    "for file in files:\n",
    "\n",
    "    df=pd.read_csv(file)\n",
    "#     print(len(df))\n",
    "    count+=len(df)\n",
    "    if( 'version' in df.columns):\n",
    "        df=df.drop(['name.1','name', 'version'], axis=1)\n",
    "    frames.append(df)"
   ]
  },
  {
   "cell_type": "code",
   "execution_count": 22,
   "metadata": {},
   "outputs": [],
   "source": [
    "result = pd.concat(frames)"
   ]
  },
  {
   "cell_type": "code",
   "execution_count": 27,
   "metadata": {},
   "outputs": [],
   "source": [
    "df.to_csv('merged selected DS')"
   ]
  }
 ],
 "metadata": {
  "kernelspec": {
   "display_name": "Python 3",
   "language": "python",
   "name": "python3"
  },
  "language_info": {
   "codemirror_mode": {
    "name": "ipython",
    "version": 3
   },
   "file_extension": ".py",
   "mimetype": "text/x-python",
   "name": "python",
   "nbconvert_exporter": "python",
   "pygments_lexer": "ipython3",
   "version": "3.6.8"
  }
 },
 "nbformat": 4,
 "nbformat_minor": 2
}
