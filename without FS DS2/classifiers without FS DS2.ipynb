{
 "cells": [
  {
   "cell_type": "code",
   "execution_count": 1,
   "metadata": {},
   "outputs": [],
   "source": [
    "from sklearn.model_selection import train_test_split\n",
    "from sklearn.metrics import classification_report\n",
    "import os\n",
    "import pandas as pd\n",
    "import numpy as np\n",
    "from scipy.io import arff\n",
    "\n",
    "# from sklearn.naive_bayes import GaussianNB\n",
    "# classifier = GaussianNB()\n",
    "# clas='NB'\n",
    "\n",
    "from sklearn import svm\n",
    "classifier = svm.SVC(kernel='linear')\n",
    "clas='SVM linear'\n",
    "\n",
    "# from sklearn import svm\n",
    "# classifier = svm.SVC(kernel='rbf')\n",
    "# clas='SVM RBF'\n",
    "\n",
    "# from sklearn.neighbors import KNeighborsClassifier\n",
    "# classifier = KNeighborsClassifier(n_neighbors=5)\n",
    "# clas='KNN'\n",
    "\n",
    "# from sklearn import linear_model\n",
    "# classifier = linear_model.LogisticRegression(solver='lbfgs', multi_class='auto')\n",
    "# clas='Linear Regression'\n"
   ]
  },
  {
   "cell_type": "code",
   "execution_count": 2,
   "metadata": {},
   "outputs": [],
   "source": [
    "def data_prepration(file):\n",
    "    data = arff.loadarff(file)\n",
    "    X=[]\n",
    "    y=[]\n",
    "    for i in data[0]:\n",
    "\n",
    "        X.append(list(i)[0:21])\n",
    "        if(i[len(i)-1] == b'Y'):\n",
    "            y.append(1)\n",
    "        else:\n",
    "            y.append(0)\n",
    "        \n",
    "    X=np.array(X)\n",
    "    y=np.array(y)\n",
    "    return X,y"
   ]
  },
  {
   "cell_type": "code",
   "execution_count": null,
   "metadata": {},
   "outputs": [
    {
     "name": "stdout",
     "output_type": "stream",
     "text": [
      "MW1 dataset...\n",
      "subset performance= 0.7857142857142857\n",
      "PC1 dataset...\n",
      "subset performance= 0.9055793991416309\n",
      "PC2 dataset...\n",
      "subset performance= 0.959349593495935\n",
      "PC3 dataset...\n",
      "subset performance= 0.8202247191011236\n",
      "PC4 dataset...\n",
      "subset performance= 0.8729411764705882\n"
     ]
    }
   ],
   "source": [
    "root_folder=\"D:\\\\SDP\\\\Afnan\"\n",
    "files = [os.path.join(root_folder, x) for x in os.listdir(root_folder)]\n",
    "for file in files :\n",
    "    X,y = data_prepration(file)   \n",
    "    \n",
    "    X_train, X_test, y_train, y_test = train_test_split(X, y, test_size=0.33, random_state=42)\n",
    "    classifier.fit(X_train,y_train)\n",
    "    y_pred= classifier.predict(X_test)    \n",
    "    report=classification_report(y_test,y_pred)\n",
    "    subset_performance = (y_pred== y_test).mean()\n",
    "    \n",
    "    \n",
    "    \n",
    "    ds=file.split(\"\\\\\")[3][0:-5]\n",
    "    print(\"{} dataset...\".format(ds))\n",
    "    \n",
    "    \n",
    "    fr = open(\"Test/without FS DS2/{}/{}.txt\".format(clas,ds), \"a\")\n",
    "#    \n",
    "    \n",
    "    \n",
    "    print(\"subset performance= {}\".format(subset_performance))\n",
    "    fr.write(\"\\nclassification_report:\"+str(report)+\"\\n\")\n",
    "    fr.write(\"subset performance = {}\".format(subset_performance))\n",
    "    fr.close()"
   ]
  }
 ],
 "metadata": {
  "kernelspec": {
   "display_name": "Python 3",
   "language": "python",
   "name": "python3"
  },
  "language_info": {
   "codemirror_mode": {
    "name": "ipython",
    "version": 3
   },
   "file_extension": ".py",
   "mimetype": "text/x-python",
   "name": "python",
   "nbconvert_exporter": "python",
   "pygments_lexer": "ipython3",
   "version": "3.6.8"
  }
 },
 "nbformat": 4,
 "nbformat_minor": 2
}
