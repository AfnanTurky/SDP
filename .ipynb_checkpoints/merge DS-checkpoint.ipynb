{
 "cells": [
  {
   "cell_type": "code",
   "execution_count": 1,
   "metadata": {},
   "outputs": [],
   "source": [
    "import os\n",
    "import numpy as np\n",
    "import pandas as pd"
   ]
  },
  {
   "cell_type": "code",
   "execution_count": 2,
   "metadata": {},
   "outputs": [],
   "source": [
    "df=pd.read_csv('merged selected DS')"
   ]
  },
  {
   "cell_type": "code",
   "execution_count": 3,
   "metadata": {},
   "outputs": [
    {
     "data": {
      "text/plain": [
       "440"
      ]
     },
     "execution_count": 3,
     "metadata": {},
     "output_type": "execute_result"
    }
   ],
   "source": [
    "len(df)"
   ]
  },
  {
   "cell_type": "code",
   "execution_count": 4,
   "metadata": {},
   "outputs": [],
   "source": [
    "import os\n",
    "import numpy as np\n",
    "import pandas as pd\n",
    "root_folder=\"D:\\\\SDP\\\\Dataset Dr.Sultan\\\\selected DS\"\n",
    "files = [os.path.join(root_folder, x) for x in os.listdir(root_folder)]"
   ]
  },
  {
   "cell_type": "code",
   "execution_count": 26,
   "metadata": {
    "collapsed": true
   },
   "outputs": [
    {
     "name": "stdout",
     "output_type": "stream",
     "text": [
      "BEFORE\n",
      "D:\\SDP\\Dataset Dr.Sultan\\selected DS\\ant-1.4.csv\n",
      "{0, 1}\n",
      "AFTER\n",
      "D:\\SDP\\Dataset Dr.Sultan\\selected DS\\ant-1.4.csv\n",
      "{0, 1}\n",
      "BEFORE\n",
      "D:\\SDP\\Dataset Dr.Sultan\\selected DS\\ant-1.6.csv\n",
      "{0, 1}\n",
      "AFTER\n",
      "D:\\SDP\\Dataset Dr.Sultan\\selected DS\\ant-1.6.csv\n",
      "{0, 1}\n",
      "BEFORE\n",
      "D:\\SDP\\Dataset Dr.Sultan\\selected DS\\camel-1.4.csv\n",
      "{0, 1, 2, 3, 4, 5, 6, 7, 8, 10, 13, 17}\n",
      "AFTER\n",
      "D:\\SDP\\Dataset Dr.Sultan\\selected DS\\camel-1.4.csv\n",
      "{0, 1}\n",
      "BEFORE\n",
      "D:\\SDP\\Dataset Dr.Sultan\\selected DS\\camel-1.6.csv\n",
      "{0, 1, 2, 3, 4, 5, 6, 7, 8, 9, 10, 11, 13, 17, 18, 28}\n",
      "AFTER\n",
      "D:\\SDP\\Dataset Dr.Sultan\\selected DS\\camel-1.6.csv\n",
      "{0, 1}\n",
      "BEFORE\n",
      "D:\\SDP\\Dataset Dr.Sultan\\selected DS\\ivy-2.0.csv\n",
      "{0, 1, 2, 3}\n",
      "AFTER\n",
      "D:\\SDP\\Dataset Dr.Sultan\\selected DS\\ivy-2.0.csv\n",
      "{0, 1}\n",
      "BEFORE\n",
      "D:\\SDP\\Dataset Dr.Sultan\\selected DS\\jedit-4.2.csv\n",
      "{0, 1, 2, 3, 4, 6, 7, 9, 10}\n",
      "AFTER\n",
      "D:\\SDP\\Dataset Dr.Sultan\\selected DS\\jedit-4.2.csv\n",
      "{0, 1}\n",
      "BEFORE\n",
      "D:\\SDP\\Dataset Dr.Sultan\\selected DS\\jedit-4.3.csv\n",
      "{0, 1, 2}\n",
      "AFTER\n",
      "D:\\SDP\\Dataset Dr.Sultan\\selected DS\\jedit-4.3.csv\n",
      "{0, 1}\n",
      "BEFORE\n",
      "D:\\SDP\\Dataset Dr.Sultan\\selected DS\\poi-2.0.csv\n",
      "{0, 1, 2}\n",
      "AFTER\n",
      "D:\\SDP\\Dataset Dr.Sultan\\selected DS\\poi-2.0.csv\n",
      "{0, 1}\n",
      "BEFORE\n",
      "D:\\SDP\\Dataset Dr.Sultan\\selected DS\\prop-6.csv\n",
      "{0, 1}\n",
      "AFTER\n",
      "D:\\SDP\\Dataset Dr.Sultan\\selected DS\\prop-6.csv\n",
      "{0, 1}\n",
      "BEFORE\n",
      "D:\\SDP\\Dataset Dr.Sultan\\selected DS\\synapse-1.2.csv\n",
      "{0, 1, 2, 3, 4, 6, 9}\n",
      "AFTER\n",
      "D:\\SDP\\Dataset Dr.Sultan\\selected DS\\synapse-1.2.csv\n",
      "{0, 1}\n",
      "BEFORE\n",
      "D:\\SDP\\Dataset Dr.Sultan\\selected DS\\xalan-2.5.csv\n",
      "{0, 1, 2, 3, 4, 5, 6, 8, 9}\n",
      "AFTER\n",
      "D:\\SDP\\Dataset Dr.Sultan\\selected DS\\xalan-2.5.csv\n",
      "{0, 1}\n",
      "BEFORE\n",
      "D:\\SDP\\Dataset Dr.Sultan\\selected DS\\xerces-1.2.csv\n",
      "{0, 1, 2, 4}\n",
      "AFTER\n",
      "D:\\SDP\\Dataset Dr.Sultan\\selected DS\\xerces-1.2.csv\n",
      "{0, 1}\n"
     ]
    }
   ],
   "source": [
    "frames=[]\n",
    "count=0\n",
    "for file in files:\n",
    "\n",
    "    df=pd.read_csv(file)\n",
    "    print(\"BEFORE\")\n",
    "    print(file)\n",
    "    print(set(df.bug))\n",
    "    df=df.replace({'bug':[ 1, 2, 3, 4, 5, 6, 7, 8, 9, 10, 11, 13, 17, 18, 28]}, 1)\n",
    "    print(\"AFTER\")\n",
    "    print(file)\n",
    "    print(set(df.bug))\n",
    "    count+=len(df)\n",
    "    if( 'version' in df.columns):\n",
    "        df=df.drop(['name.1','name', 'version'], axis=1)\n",
    "    frames.append(df)"
   ]
  },
  {
   "cell_type": "code",
   "execution_count": 28,
   "metadata": {},
   "outputs": [
    {
     "data": {
      "text/plain": [
       "[0, 1]"
      ]
     },
     "execution_count": 28,
     "metadata": {},
     "output_type": "execute_result"
    }
   ],
   "source": [
    "list(set(result.bug))"
   ]
  },
  {
   "cell_type": "code",
   "execution_count": 27,
   "metadata": {},
   "outputs": [],
   "source": [
    "result = pd.concat(frames)"
   ]
  },
  {
   "cell_type": "code",
   "execution_count": 30,
   "metadata": {},
   "outputs": [
    {
     "data": {
      "text/plain": [
       "6034"
      ]
     },
     "execution_count": 30,
     "metadata": {},
     "output_type": "execute_result"
    }
   ],
   "source": [
    "len(result)"
   ]
  },
  {
   "cell_type": "code",
   "execution_count": 29,
   "metadata": {},
   "outputs": [],
   "source": [
    "result.to_csv('merged selected DS.csv')"
   ]
  }
 ],
 "metadata": {
  "kernelspec": {
   "display_name": "Python 3",
   "language": "python",
   "name": "python3"
  },
  "language_info": {
   "codemirror_mode": {
    "name": "ipython",
    "version": 3
   },
   "file_extension": ".py",
   "mimetype": "text/x-python",
   "name": "python",
   "nbconvert_exporter": "python",
   "pygments_lexer": "ipython3",
   "version": "3.6.8"
  }
 },
 "nbformat": 4,
 "nbformat_minor": 2
}
