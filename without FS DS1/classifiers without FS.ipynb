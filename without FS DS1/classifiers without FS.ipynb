{
 "cells": [
  {
   "cell_type": "code",
   "execution_count": 12,
   "metadata": {},
   "outputs": [],
   "source": [
    "from sklearn.model_selection import train_test_split\n",
    "from sklearn.metrics import classification_report\n",
    "import os\n",
    "import pandas as pd\n",
    "import numpy as np\n",
    "\n",
    "# from sklearn.naive_bayes import GaussianNB\n",
    "# classifier = GaussianNB()\n",
    "# clas='NB'\n",
    "\n",
    "# from sklearn import svm\n",
    "# classifier = svm.SVC(kernel='linear')\n",
    "# clas='SVM linear'\n",
    "\n",
    "# from sklearn import svm\n",
    "# classifier = svm.SVC(kernel='rbf')\n",
    "# clas='SVM RBF'\n",
    "\n",
    "from sklearn.neighbors import KNeighborsClassifier\n",
    "classifier = KNeighborsClassifier(n_neighbors=5)\n",
    "clas='KNN'\n",
    "\n",
    "# from sklearn import linear_model\n",
    "# classifier = linear_model.LogisticRegression(solver='lbfgs', multi_class='auto')\n",
    "# clas='Linear Regression'\n"
   ]
  },
  {
   "cell_type": "code",
   "execution_count": 14,
   "metadata": {
    "collapsed": true
   },
   "outputs": [
    {
     "name": "stdout",
     "output_type": "stream",
     "text": [
      "ant-1.4 dataset...\n",
      "subset performance= 0.711864406779661\n",
      "ant-1.6 dataset...\n",
      "subset performance= 0.7931034482758621\n",
      "camel-1.4 dataset...\n",
      "subset performance= 0.8333333333333334\n",
      "camel-1.6 dataset...\n",
      "subset performance= 0.7774294670846394\n",
      "ivy-2.0 dataset...\n",
      "subset performance= 0.8376068376068376\n",
      "jedit-4.2 dataset...\n",
      "subset performance= 0.8852459016393442\n",
      "jedit-4.3 dataset...\n",
      "subset performance= 0.9631901840490797\n",
      "poi-2.0 dataset...\n",
      "subset performance= 0.875\n"
     ]
    },
    {
     "name": "stderr",
     "output_type": "stream",
     "text": [
      "c:\\users\\afnan\\miniconda3\\envs\\tf\\lib\\site-packages\\sklearn\\metrics\\classification.py:1437: UndefinedMetricWarning: Precision and F-score are ill-defined and being set to 0.0 in labels with no predicted samples.\n",
      "  'precision', 'predicted', average, warn_for)\n",
      "c:\\users\\afnan\\miniconda3\\envs\\tf\\lib\\site-packages\\sklearn\\metrics\\classification.py:1437: UndefinedMetricWarning: Precision and F-score are ill-defined and being set to 0.0 in labels with no predicted samples.\n",
      "  'precision', 'predicted', average, warn_for)\n",
      "c:\\users\\afnan\\miniconda3\\envs\\tf\\lib\\site-packages\\sklearn\\metrics\\classification.py:1439: UndefinedMetricWarning: Recall and F-score are ill-defined and being set to 0.0 in labels with no true samples.\n",
      "  'recall', 'true', average, warn_for)\n",
      "c:\\users\\afnan\\miniconda3\\envs\\tf\\lib\\site-packages\\sklearn\\metrics\\classification.py:1437: UndefinedMetricWarning: Precision and F-score are ill-defined and being set to 0.0 in labels with no predicted samples.\n",
      "  'precision', 'predicted', average, warn_for)\n",
      "c:\\users\\afnan\\miniconda3\\envs\\tf\\lib\\site-packages\\sklearn\\metrics\\classification.py:1437: UndefinedMetricWarning: Precision and F-score are ill-defined and being set to 0.0 in labels with no predicted samples.\n",
      "  'precision', 'predicted', average, warn_for)\n",
      "c:\\users\\afnan\\miniconda3\\envs\\tf\\lib\\site-packages\\sklearn\\metrics\\classification.py:1437: UndefinedMetricWarning: Precision and F-score are ill-defined and being set to 0.0 in labels with no predicted samples.\n",
      "  'precision', 'predicted', average, warn_for)\n",
      "c:\\users\\afnan\\miniconda3\\envs\\tf\\lib\\site-packages\\sklearn\\metrics\\classification.py:1437: UndefinedMetricWarning: Precision and F-score are ill-defined and being set to 0.0 in labels with no predicted samples.\n",
      "  'precision', 'predicted', average, warn_for)\n"
     ]
    },
    {
     "name": "stdout",
     "output_type": "stream",
     "text": [
      "prop-6 dataset...\n",
      "subset performance= 0.8967136150234741\n",
      "synapse-1.2 dataset...\n",
      "subset performance= 0.6823529411764706\n",
      "xalan-2.5 dataset...\n",
      "subset performance= 0.5735849056603773\n",
      "xerces-1.2 dataset...\n",
      "subset performance= 0.8767123287671232\n"
     ]
    },
    {
     "name": "stderr",
     "output_type": "stream",
     "text": [
      "c:\\users\\afnan\\miniconda3\\envs\\tf\\lib\\site-packages\\sklearn\\metrics\\classification.py:1437: UndefinedMetricWarning: Precision and F-score are ill-defined and being set to 0.0 in labels with no predicted samples.\n",
      "  'precision', 'predicted', average, warn_for)\n"
     ]
    }
   ],
   "source": [
    "root_folder=\"D:\\\\SDP\\\\Dataset Dr.Sultan\\\\selected DS\"\n",
    "files = [os.path.join(root_folder, x) for x in os.listdir(root_folder)]\n",
    "for file in files :\n",
    "    df=pd.read_csv(file)\n",
    "    if( 'version' in df.columns):\n",
    "        X=np.array(df.drop(['bug','name.1','name', 'version'], axis=1))\n",
    "    else:\n",
    "        X=np.array(df.drop('bug', axis=1))\n",
    "    y=np.array(df.bug)\n",
    "    \n",
    "    \n",
    "    X_train, X_test, y_train, y_test = train_test_split(X, y, test_size=0.33, random_state=42)\n",
    "    classifier.fit(X_train,y_train)\n",
    "    y_pred= classifier.predict(X_test)    \n",
    "    report=classification_report(y_test,y_pred)\n",
    "    subset_performance = (y_pred== y_test).mean()\n",
    "    \n",
    "    \n",
    "    \n",
    "    ds=file.split(\"\\\\\")[4][0:-4]\n",
    "    print(\"{} dataset...\".format(ds))\n",
    "    \n",
    "    \n",
    "    fr = open(\"Test/without FS/{}/{}.txt\".format(clas,ds), \"a\")\n",
    "   \n",
    "    \n",
    "    \n",
    "    print(\"subset performance= {}\".format(subset_performance))\n",
    "    fr.write(\"\\nclassification_report:\"+str(report)+\"\\n\")\n",
    "    fr.write(\"subset performance = {}\".format(subset_performance))\n",
    "    fr.close()"
   ]
  },
  {
   "cell_type": "code",
   "execution_count": null,
   "metadata": {},
   "outputs": [],
   "source": []
  },
  {
   "cell_type": "code",
   "execution_count": null,
   "metadata": {},
   "outputs": [],
   "source": []
  }
 ],
 "metadata": {
  "kernelspec": {
   "display_name": "Python 3",
   "language": "python",
   "name": "python3"
  },
  "language_info": {
   "codemirror_mode": {
    "name": "ipython",
    "version": 3
   },
   "file_extension": ".py",
   "mimetype": "text/x-python",
   "name": "python",
   "nbconvert_exporter": "python",
   "pygments_lexer": "ipython3",
   "version": "3.6.8"
  }
 },
 "nbformat": 4,
 "nbformat_minor": 2
}
